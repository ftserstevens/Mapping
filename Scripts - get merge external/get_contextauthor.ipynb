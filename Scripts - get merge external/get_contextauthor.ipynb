{
 "cells": [
  {
   "cell_type": "code",
   "execution_count": 10,
   "metadata": {},
   "outputs": [],
   "source": [
    "import requests\n",
    "import pandas as pd\n",
    "import numpy as np\n",
    "import json\n",
    "from tqdm import tqdm\n",
    "from tw_keys import misinfo_key"
   ]
  },
  {
   "cell_type": "code",
   "execution_count": null,
   "metadata": {},
   "outputs": [],
   "source": [
    "#### https://rapidapi.com/e1yr/api/twitter-rss/"
   ]
  },
  {
   "cell_type": "code",
   "execution_count": 11,
   "metadata": {},
   "outputs": [
    {
     "name": "stdout",
     "output_type": "stream",
     "text": [
      "3516\n"
     ]
    }
   ],
   "source": [
    "df = pd.read_csv(\"../tweets_inputdata/tweets_jan_minmonth5/BOT_GEO_BERT_Corona_JAN1_2023.csv\")\n",
    "authors = df.author_id.unique()\n",
    "print(len(authors))"
   ]
  },
  {
   "cell_type": "code",
   "execution_count": 9,
   "metadata": {},
   "outputs": [
    {
     "name": "stdout",
     "output_type": "stream",
     "text": [
      "{'screen_name': 'cbarrie', 'user_id': '95226101', 'lastupdate': '2013-05-28 09:05:06', 'followers': '37', 'friends': '190', 'country': None, 'gender': None, 'interests': [], 'profiles': ['politics', 'arts'], 'peergroups': []}\n"
     ]
    }
   ],
   "source": [
    "def get_mis(author_id):\n",
    "    url = \"https://peerreach.p.rapidapi.com/user/lookup.json\"\n",
    "\n",
    "    querystring = {\"screen_name\":author_id}\n",
    "\n",
    "    headers = {\n",
    "\t\"X-RapidAPI-Key\": \"520d29962amshc12582095472d91p1b969fjsn844a38c305e1\",\n",
    "\t\"X-RapidAPI-Host\": \"peerreach.p.rapidapi.com\"\n",
    "    }\n",
    "\n",
    "    response = requests.get(url, headers=headers, params=querystring)\n",
    "    return(response.json())"
   ]
  },
  {
   "cell_type": "code",
   "execution_count": null,
   "metadata": {},
   "outputs": [],
   "source": [
    "with open('../Scripts - get merge external/external_data/misinformation_results.json', 'a') as json_data:\n",
    "    json_data.write(\"[\")\n",
    "    for i in tqdm(authors):\n",
    "        result = get_mis(i)\n",
    "        json.dump(result, json_data, indent = 4)\n",
    "        json_data.write(\",\")\n",
    "    json_data.write(\"]\")\n",
    "json_data.close()\n"
   ]
  }
 ],
 "metadata": {
  "kernelspec": {
   "display_name": "woc",
   "language": "python",
   "name": "python3"
  },
  "language_info": {
   "codemirror_mode": {
    "name": "ipython",
    "version": 3
   },
   "file_extension": ".py",
   "mimetype": "text/x-python",
   "name": "python",
   "nbconvert_exporter": "python",
   "pygments_lexer": "ipython3",
   "version": "3.11.2"
  },
  "orig_nbformat": 4,
  "vscode": {
   "interpreter": {
    "hash": "61bd22bacafa0d6be097bd72c785085865000c401efd5957a1a6fc2362facd26"
   }
  }
 },
 "nbformat": 4,
 "nbformat_minor": 2
}
