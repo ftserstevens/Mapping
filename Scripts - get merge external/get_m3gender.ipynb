{
 "cells": [
  {
   "cell_type": "code",
   "execution_count": null,
   "id": "08528be8-49b6-49af-98b4-6bc589d86a41",
   "metadata": {},
   "outputs": [],
   "source": [
    "from m3inference import M3Twitter\n",
    "import pprint\n",
    "import pandas as pd\n",
    "import json\n",
    "import os\n"
   ]
  },
  {
   "cell_type": "code",
   "execution_count": null,
   "id": "d3a1aa9e-15b8-4f0c-b184-370aca8407f2",
   "metadata": {},
   "outputs": [],
   "source": [
    "m3twitter=M3Twitter(cache_dir=\"twitter_cache\") #Change the cache_dir parameter to control where profile images are downloaded\n"
   ]
  },
  {
   "cell_type": "code",
   "execution_count": null,
   "id": "8cfb6e49-be4b-4632-ac20-1110ebc03b40",
   "metadata": {},
   "outputs": [],
   "source": [
    "df = pd.read_json('./input/tweets_jan_minmonth5/df_full_Corona_JAN1_2023.json', dtype={'id_str': 'int64'}) #Change here to run the script on right file\n",
    "\n",
    "#Documents/Python/data_GEO_BOT_M3_BERT/input/Pretest_1/df_full_Corona_NOV3.json\n",
    "\n",
    "df.to_json(\"./scripts/json_lines.jsonl\", orient=\"records\", lines=True)"
   ]
  },
  {
   "cell_type": "code",
   "execution_count": null,
   "id": "3fd9e746-0a4c-4f4a-9ff8-85d4ebefc9e4",
   "metadata": {},
   "outputs": [],
   "source": [
    "m3twitter.transform_jsonl(input_file=\"./scripts/json_lines.jsonl\",output_file=\"./scripts/twitter_cache/m3_input.jsonl\")\n"
   ]
  },
  {
   "cell_type": "code",
   "execution_count": null,
   "id": "19622e29-f236-41ea-adb6-7f88e4f6ef0f",
   "metadata": {},
   "outputs": [],
   "source": [
    "pred2 = m3twitter.infer(\"./scripts/twitter_cache/m3_input.jsonl\", output_format = \"dataframe\")"
   ]
  },
  {
   "cell_type": "code",
   "execution_count": 7,
   "id": "9738e20a-8713-4f7f-86c9-e79e1348b4f0",
   "metadata": {},
   "outputs": [],
   "source": [
    "pred2.to_csv(\"./output/m3_results.csv\")"
   ]
  }
 ],
 "metadata": {
  "kernelspec": {
   "display_name": "Python 3",
   "language": "python",
   "name": "python3"
  },
  "language_info": {
   "codemirror_mode": {
    "name": "ipython",
    "version": 3
   },
   "file_extension": ".py",
   "mimetype": "text/x-python",
   "name": "python",
   "nbconvert_exporter": "python",
   "pygments_lexer": "ipython3",
   "version": "3.9.6 (default, Mar 10 2023, 20:16:38) \n[Clang 14.0.3 (clang-1403.0.22.14.1)]"
  },
  "vscode": {
   "interpreter": {
    "hash": "31f2aee4e71d21fbe5cf8b01ff0e069b9275f58929596ceb00d14d90e3e16cd6"
   }
  }
 },
 "nbformat": 4,
 "nbformat_minor": 5
}
