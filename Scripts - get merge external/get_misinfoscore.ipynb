{
 "cells": [
  {
   "cell_type": "code",
   "execution_count": null,
   "metadata": {},
   "outputs": [],
   "source": [
    "#https://rapidapi.com/mescalcapi-mescalcapi-default/api/mescalc/ get misinformation score.\n"
   ]
  },
  {
   "cell_type": "code",
   "execution_count": 24,
   "metadata": {},
   "outputs": [],
   "source": [
    "import requests\n",
    "import pandas as pd\n",
    "import numpy as np\n",
    "import json\n",
    "from tqdm import tqdm\n",
    "from tw_keys import misinfo_key"
   ]
  },
  {
   "cell_type": "code",
   "execution_count": 25,
   "metadata": {},
   "outputs": [],
   "source": [
    "def get_mis(author_id):\n",
    "\turl = \"https://mescalc.p.rapidapi.com/account/\" + str(author_id)\n",
    "\n",
    "\theaders = {\n",
    "\t\t\"X-RapidAPI-Key\": \"520d29962amshc12582095472d91p1b969fjsn844a38c305e1\",\n",
    "\t\t\"X-RapidAPI-Host\": \"mescalc.p.rapidapi.com\"\n",
    "\t}\n",
    "\n",
    "\tresponse = requests.get(url, headers=headers)\n",
    "\treturn(response.json())\n",
    "\n"
   ]
  },
  {
   "cell_type": "code",
   "execution_count": 26,
   "metadata": {},
   "outputs": [
    {
     "name": "stdout",
     "output_type": "stream",
     "text": [
      "3516\n"
     ]
    }
   ],
   "source": [
    "df = pd.read_csv(\"../tweets_inputdata/tweets_jan_minmonth5/BOT_GEO_BERT_Corona_JAN1_2023.csv\")\n",
    "authors = df.author_id.unique()\n",
    "print(len(authors))"
   ]
  },
  {
   "cell_type": "code",
   "execution_count": 27,
   "metadata": {},
   "outputs": [
    {
     "name": "stderr",
     "output_type": "stream",
     "text": [
      " 49%|████▉     | 1731/3516 [32:07<36:31,  1.23s/it]    "
     ]
    }
   ],
   "source": [
    "with open('../Scripts - get merge external/external_data/misinformation_results.json', 'a') as json_data:\n",
    "    json_data.write(\"[\")\n",
    "    for i in tqdm(authors):\n",
    "        result = get_mis(i)\n",
    "        json.dump(result, json_data, indent = 4)\n",
    "        json_data.write(\",\")\n",
    "    json_data.write(\"]\")\n",
    "json_data.close()\n"
   ]
  },
  {
   "cell_type": "code",
   "execution_count": 25,
   "metadata": {},
   "outputs": [
    {
     "data": {
      "text/plain": [
       "3516"
      ]
     },
     "execution_count": 25,
     "metadata": {},
     "output_type": "execute_result"
    }
   ],
   "source": [
    "###q: how do I use tqdm in a notebook?\n",
    "#https://stackoverflow.com/questions/42212810/tqdm-in-jupyter-notebook"
   ]
  },
  {
   "cell_type": "code",
   "execution_count": null,
   "metadata": {},
   "outputs": [],
   "source": []
  }
 ],
 "metadata": {
  "kernelspec": {
   "display_name": "woc",
   "language": "python",
   "name": "python3"
  },
  "language_info": {
   "codemirror_mode": {
    "name": "ipython",
    "version": 3
   },
   "file_extension": ".py",
   "mimetype": "text/x-python",
   "name": "python",
   "nbconvert_exporter": "python",
   "pygments_lexer": "ipython3",
   "version": "3.11.2"
  },
  "orig_nbformat": 4,
  "vscode": {
   "interpreter": {
    "hash": "61bd22bacafa0d6be097bd72c785085865000c401efd5957a1a6fc2362facd26"
   }
  }
 },
 "nbformat": 4,
 "nbformat_minor": 2
}
