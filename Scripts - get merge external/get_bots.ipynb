{
 "cells": [
  {
   "cell_type": "code",
   "execution_count": 6,
   "id": "8e5be0be-ff61-4f59-8159-07583f873bbc",
   "metadata": {},
   "outputs": [],
   "source": [
    "import json\n",
    "import pandas as pd\n",
    "import os\n",
    "from tw_keys import rapidapi_key, consumer_key, consumer_secret, access_token, access_token_secret\n",
    "import botometer\n",
    "\n",
    "os.chdir(\"/Users/francois/Documents/tweet_woc/\")\n",
    "\n",
    "twitter_app_auth = {\n",
    "    'consumer_key': consumer_key,\n",
    "    'consumer_secret': consumer_secret,\n",
    "    'access_token': access_token,\n",
    "    'access_token_secret': access_token_secret,\n",
    "  }\n",
    "\n"
   ]
  },
  {
   "cell_type": "code",
   "execution_count": 7,
   "id": "b73b356c-0c5a-4dfe-9976-39f4eedcee11",
   "metadata": {},
   "outputs": [],
   "source": [
    "bom = botometer.Botometer(wait_on_ratelimit=True,\n",
    "                          rapidapi_key=rapidapi_key,\n",
    "                          **twitter_app_auth)"
   ]
  },
  {
   "cell_type": "code",
   "execution_count": 8,
   "id": "9f932da7-3257-4059-9c7a-fa1e3c7cdd61",
   "metadata": {},
   "outputs": [],
   "source": [
    "\n",
    "df = pd.read_csv(\"./tweets_inputdata/tweets_jan_minmonth5/BOT_GEO_BERT_Corona_JAN1_2023.csv\"\n",
    "                 #, names = column_names\n",
    "                )"
   ]
  },
  {
   "cell_type": "code",
   "execution_count": 9,
   "id": "722ec827-c6f7-4d72-a748-25e55d53fb72",
   "metadata": {},
   "outputs": [],
   "source": [
    "authorID_COVID_df_02_list = df.author_id.to_list()\n",
    "authorID_COVID_df_02_list = list(set(authorID_COVID_df_02_list))\n"
   ]
  },
  {
   "cell_type": "code",
   "execution_count": null,
   "id": "f81a9b0e-2e08-4ac7-ac66-de7c9dd5e5d4",
   "metadata": {},
   "outputs": [],
   "source": [
    "print(authorID_COVID_df_02_list[:5])\n",
    "len(authorID_COVID_df_02_list)"
   ]
  },
  {
   "cell_type": "code",
   "execution_count": null,
   "id": "bc7d4570-2591-416a-9712-e795d3a34794",
   "metadata": {},
   "outputs": [],
   "source": [
    "# Check a sequence of accounts\n",
    "with open('./Scripts - get merge external/external_data/botometer_results.json', 'a') as json_data:\n",
    "    json_data.write(\"[\")\n",
    "    for screen_name, result in bom.check_accounts_in(authorID_COVID_df_02_list):\n",
    "        print(screen_name)\n",
    "\n",
    "        \n",
    "        json.dump(result, json_data, indent = 4)\n",
    "        json_data.write(\",\")\n",
    "    json_data.write(\"]\")\n",
    "    json_data.close()\n",
    "\n",
    "\n",
    "    \n",
    "# Add \"[]\" in file at start & end. !!! remove the last \",\"\n"
   ]
  }
 ],
 "metadata": {
  "kernelspec": {
   "display_name": "woc",
   "language": "python",
   "name": "python3"
  },
  "language_info": {
   "codemirror_mode": {
    "name": "ipython",
    "version": 3
   },
   "file_extension": ".py",
   "mimetype": "text/x-python",
   "name": "python",
   "nbconvert_exporter": "python",
   "pygments_lexer": "ipython3",
   "version": "3.11.2 (v3.11.2:878ead1ac1, Feb  7 2023, 10:02:41) [Clang 13.0.0 (clang-1300.0.29.30)]"
  },
  "vscode": {
   "interpreter": {
    "hash": "61bd22bacafa0d6be097bd72c785085865000c401efd5957a1a6fc2362facd26"
   }
  }
 },
 "nbformat": 4,
 "nbformat_minor": 5
}
