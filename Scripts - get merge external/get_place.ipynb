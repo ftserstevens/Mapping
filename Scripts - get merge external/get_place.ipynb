{
 "cells": [
  {
   "cell_type": "code",
   "execution_count": 1,
   "id": "a1438695-011c-4cf3-955e-76f6cac8d347",
   "metadata": {},
   "outputs": [],
   "source": [
    "# import the module\n",
    "import tweepy\n",
    "from tw_keys import consumer_key, consumer_secret, access_token, access_token_secret\n",
    "import json\n",
    "import pandas as pd\n",
    "from tqdm.notebook import tqdm\n",
    "from geopy.geocoders import Nominatim\n",
    "from pathlib import Path"
   ]
  },
  {
   "cell_type": "code",
   "execution_count": 7,
   "id": "29281bca-d217-42a3-afa8-36dafe10f187",
   "metadata": {},
   "outputs": [],
   "source": [
    "\n",
    "# authorization of consumer key and consumer secret\n",
    "auth = tweepy.OAuthHandler(consumer_key, consumer_secret)\n",
    "\n",
    "# set access to user's access key and access secret\n",
    "auth.set_access_token(access_token, access_token_secret)\n",
    "\n",
    "# calling the api\n",
    "api = tweepy.API(auth, parser=tweepy.parsers.JSONParser(), wait_on_rate_limit=True)\n",
    "\n",
    "\n"
   ]
  },
  {
   "cell_type": "code",
   "execution_count": null,
   "id": "7136cd37-73a9-4115-8042-6e8703900948",
   "metadata": {},
   "outputs": [],
   "source": [
    "df = pd.read_csv(\"./input/tweets_jan_minmonth5/BOT_GEO_BERT_Corona_JAN1_2023.csv\")\n",
    "df_done = pd.read_csv(\"./output/geoid_done.csv\")\n",
    "df_done2 = pd.read_csv(\"./output/geoid_done2.csv\")\n",
    "print(len(df), \"starting df\")\n",
    "print(len(set(df.geo)), \"total geo ids\")\n",
    "geo_place_id_COVID_df_03_list = set(df.geo) - set(df_done.x) - set(df_done2.x)\n",
    "print(len(geo_place_id_COVID_df_03_list), \"remain to be processed\")\n",
    "#no match for \"3d1da0ef32c06f83\"\n"
   ]
  },
  {
   "cell_type": "code",
   "execution_count": null,
   "id": "422677e5-61a4-4105-9120-1113d67eb406",
   "metadata": {},
   "outputs": [],
   "source": [
    "#Loop to get the places for every id.\n",
    "with open('./output/geo_results_1635-1655_d.json', 'a') as json_data:\n",
    "    #if var_exists == False:\n",
    "    json_data.write(\"[\")\n",
    "    for geo_id in tqdm(geo_place_id_COVID_df_03_list):\n",
    "        print(geo_id, \"starting\")\n",
    "        places = api.geo_id(geo_id)\n",
    "        print(places)\n",
    "        json.dump(places, json_data)\n",
    "        json_data.write(\",\")\n",
    "        print(geo_id, \"done\")\n",
    "    json_data.write(\"]\")\n",
    "    json_data.close()\n",
    "\n",
    "\n",
    "# add \"[]\" in the file \n",
    "# & remove \",\"\n",
    "#erease file when starting over \"a\" is appending!"
   ]
  },
  {
   "attachments": {},
   "cell_type": "markdown",
   "id": "f5523285",
   "metadata": {},
   "source": [
    "### Add county name"
   ]
  },
  {
   "cell_type": "code",
   "execution_count": 42,
   "id": "721e69a6-bbfc-41ef-9a7e-6227aab9231d",
   "metadata": {},
   "outputs": [],
   "source": [
    "df_county =  pd.read_json(\"Scripts - get merge external/external_data/geo_results.json\")\n",
    "df_county\n",
    "#locations = df_county[\"full_name\"]\n",
    "locations = df_county[\"centroid\"]\n",
    "\n",
    "# Initialize geolocator with Nominatim\n",
    "geolocator = Nominatim(user_agent=\"my_geocoder\")\n",
    "\n",
    "# Initialize lists to store county and state information\n",
    "counties = []"
   ]
  },
  {
   "cell_type": "code",
   "execution_count": 45,
   "id": "949c6479",
   "metadata": {},
   "outputs": [],
   "source": [
    "# Loop through locations and retrieve county and state information\n",
    "for location in locations:\n",
    "    lon, lat = location\n",
    "    try:\n",
    "        location_info = geolocator.reverse((lat,lon), exactly_one = True)\n",
    "        if location_info:\n",
    "            counties.append(location_info.raw[\"display_name\"])\n",
    "        else:\n",
    "            counties.append('NoInfo')\n",
    "    except:\n",
    "        counties.append('NoInfo')\n"
   ]
  }
 ],
 "metadata": {
  "kernelspec": {
   "display_name": "Python 3",
   "language": "python",
   "name": "python3"
  },
  "language_info": {
   "codemirror_mode": {
    "name": "ipython",
    "version": 3
   },
   "file_extension": ".py",
   "mimetype": "text/x-python",
   "name": "python",
   "nbconvert_exporter": "python",
   "pygments_lexer": "ipython3",
   "version": "3.9.6 (default, Mar 10 2023, 20:16:38) \n[Clang 14.0.3 (clang-1403.0.22.14.1)]"
  },
  "vscode": {
   "interpreter": {
    "hash": "31f2aee4e71d21fbe5cf8b01ff0e069b9275f58929596ceb00d14d90e3e16cd6"
   }
  }
 },
 "nbformat": 4,
 "nbformat_minor": 5
}
